{
 "cells": [
  {
   "cell_type": "code",
   "execution_count": 1,
   "metadata": {},
   "outputs": [],
   "source": [
    "from sklearn.model_selection import train_test_split\n",
    "from sklearn.metrics import confusion_matrix, classification_report, accuracy_score,log_loss\n",
    "from sklearn.preprocessing import MinMaxScaler, StandardScaler\n",
    "from sklearn.linear_model import LogisticRegression\n",
    "import pandas as pd\n",
    "import seaborn as sns\n",
    "import matplotlib.pyplot as plt\n",
    "import numpy as np\n",
    "import pickle\n",
    "\n",
    "%matplotlib inline"
   ]
  },
  {
   "cell_type": "code",
   "execution_count": 2,
   "metadata": {},
   "outputs": [],
   "source": [
    "sns.set_style('whitegrid')"
   ]
  },
  {
   "cell_type": "code",
   "execution_count": 39,
   "metadata": {},
   "outputs": [
    {
     "name": "stdout",
     "output_type": "stream",
     "text": [
      "762\n"
     ]
    },
    {
     "data": {
      "text/html": [
       "<div>\n",
       "<style scoped>\n",
       "    .dataframe tbody tr th:only-of-type {\n",
       "        vertical-align: middle;\n",
       "    }\n",
       "\n",
       "    .dataframe tbody tr th {\n",
       "        vertical-align: top;\n",
       "    }\n",
       "\n",
       "    .dataframe thead th {\n",
       "        text-align: right;\n",
       "    }\n",
       "</style>\n",
       "<table border=\"1\" class=\"dataframe\">\n",
       "  <thead>\n",
       "    <tr style=\"text-align: right;\">\n",
       "      <th></th>\n",
       "      <th>chat_id</th>\n",
       "      <th>conv_id</th>\n",
       "      <th>RR</th>\n",
       "      <th>RD</th>\n",
       "      <th>rating</th>\n",
       "      <th>duration</th>\n",
       "      <th>initiatedByUser</th>\n",
       "      <th>length</th>\n",
       "      <th>turnsByUser</th>\n",
       "      <th>numWords</th>\n",
       "      <th>usergroup_default</th>\n",
       "    </tr>\n",
       "  </thead>\n",
       "  <tbody>\n",
       "    <tr>\n",
       "      <th>0</th>\n",
       "      <td>95008127</td>\n",
       "      <td>1</td>\n",
       "      <td>1.0</td>\n",
       "      <td>9.50</td>\n",
       "      <td>4</td>\n",
       "      <td>23</td>\n",
       "      <td>True</td>\n",
       "      <td>8</td>\n",
       "      <td>3</td>\n",
       "      <td>0.0</td>\n",
       "      <td>1</td>\n",
       "    </tr>\n",
       "    <tr>\n",
       "      <th>1</th>\n",
       "      <td>95008127</td>\n",
       "      <td>2</td>\n",
       "      <td>1.0</td>\n",
       "      <td>11.00</td>\n",
       "      <td>5</td>\n",
       "      <td>77</td>\n",
       "      <td>True</td>\n",
       "      <td>8</td>\n",
       "      <td>3</td>\n",
       "      <td>2.0</td>\n",
       "      <td>1</td>\n",
       "    </tr>\n",
       "    <tr>\n",
       "      <th>2</th>\n",
       "      <td>95008127</td>\n",
       "      <td>3</td>\n",
       "      <td>1.0</td>\n",
       "      <td>19.67</td>\n",
       "      <td>4</td>\n",
       "      <td>66</td>\n",
       "      <td>False</td>\n",
       "      <td>11</td>\n",
       "      <td>4</td>\n",
       "      <td>0.0</td>\n",
       "      <td>1</td>\n",
       "    </tr>\n",
       "    <tr>\n",
       "      <th>3</th>\n",
       "      <td>95008127</td>\n",
       "      <td>4</td>\n",
       "      <td>1.0</td>\n",
       "      <td>164.00</td>\n",
       "      <td>5</td>\n",
       "      <td>844</td>\n",
       "      <td>True</td>\n",
       "      <td>9</td>\n",
       "      <td>4</td>\n",
       "      <td>4.0</td>\n",
       "      <td>1</td>\n",
       "    </tr>\n",
       "    <tr>\n",
       "      <th>4</th>\n",
       "      <td>95008127</td>\n",
       "      <td>5</td>\n",
       "      <td>1.0</td>\n",
       "      <td>152.67</td>\n",
       "      <td>4</td>\n",
       "      <td>490</td>\n",
       "      <td>True</td>\n",
       "      <td>11</td>\n",
       "      <td>5</td>\n",
       "      <td>4.0</td>\n",
       "      <td>1</td>\n",
       "    </tr>\n",
       "  </tbody>\n",
       "</table>\n",
       "</div>"
      ],
      "text/plain": [
       "    chat_id  conv_id   RR      RD  rating  duration  initiatedByUser  length  \\\n",
       "0  95008127        1  1.0    9.50       4        23             True       8   \n",
       "1  95008127        2  1.0   11.00       5        77             True       8   \n",
       "2  95008127        3  1.0   19.67       4        66            False      11   \n",
       "3  95008127        4  1.0  164.00       5       844             True       9   \n",
       "4  95008127        5  1.0  152.67       4       490             True      11   \n",
       "\n",
       "   turnsByUser  numWords  usergroup_default  \n",
       "0            3       0.0                  1  \n",
       "1            3       2.0                  1  \n",
       "2            4       0.0                  1  \n",
       "3            4       4.0                  1  \n",
       "4            5       4.0                  1  "
      ]
     },
     "execution_count": 39,
     "metadata": {},
     "output_type": "execute_result"
    }
   ],
   "source": [
    "df_metrics = pd.read_csv('metrics_compact.csv')\n",
    "\n",
    "#df_metrics['rating'].fillna(value = df_metrics['rating'].mean(), inplace=True)\n",
    "df_metrics.fillna(value = 0, inplace=True)\n",
    "df_metrics = pd.get_dummies(df_metrics, columns=['usergroup'],drop_first=True)\n",
    "df_metrics['rating'] = df_metrics['rating'].astype('int32')\n",
    "#df_metrics['rating'] = df_metrics['rating'].apply(np.rint)\n",
    "print(len(df_metrics))\n",
    "df_metrics.head()"
   ]
  },
  {
   "cell_type": "code",
   "execution_count": 40,
   "metadata": {},
   "outputs": [
    {
     "name": "stdout",
     "output_type": "stream",
     "text": [
      "(533, 8) (533,)\n",
      "(229, 8) (229,)\n"
     ]
    }
   ],
   "source": [
    "X=df_metrics.drop(['chat_id', 'conv_id', 'rating'], axis=1)\n",
    "y=df_metrics['rating']\n",
    "\n",
    "#StandardScaler().fit_transform(X)\n",
    "X_train, X_test, y_train, y_test = train_test_split(X, y, \n",
    "                                                    test_size=0.3, random_state=60)\n",
    "\n",
    "\n",
    "\n",
    "print(X_train.shape, y_train.shape)\n",
    "print(X_test.shape, y_test.shape)"
   ]
  },
  {
   "cell_type": "code",
   "execution_count": 33,
   "metadata": {},
   "outputs": [
    {
     "name": "stderr",
     "output_type": "stream",
     "text": [
      "/Users/pinarkaymaz/anaconda3/lib/python3.7/site-packages/sklearn/preprocessing/data.py:625: DataConversionWarning: Data with input dtype bool, uint8, int64, float64 were all converted to float64 by StandardScaler.\n",
      "  return self.partial_fit(X, y)\n",
      "/Users/pinarkaymaz/anaconda3/lib/python3.7/site-packages/sklearn/base.py:462: DataConversionWarning: Data with input dtype bool, uint8, int64, float64 were all converted to float64 by StandardScaler.\n",
      "  return self.fit(X, **fit_params).transform(X)\n",
      "/Users/pinarkaymaz/anaconda3/lib/python3.7/site-packages/ipykernel_launcher.py:3: DataConversionWarning: Data with input dtype bool, uint8, int64, float64 were all converted to float64 by StandardScaler.\n",
      "  This is separate from the ipykernel package so we can avoid doing imports until\n"
     ]
    }
   ],
   "source": [
    "sc = StandardScaler()\n",
    "X_train = sc.fit_transform(X_train)\n",
    "X_test = sc.transform(X_test)\n",
    "\n",
    "logm=LogisticRegression(multi_class ='multinomial', solver='lbfgs', C=0.1)\n",
    "logm.fit(X_train, y_train)\n",
    "y_pred = logm.predict(X_test)"
   ]
  },
  {
   "cell_type": "code",
   "execution_count": 34,
   "metadata": {},
   "outputs": [
    {
     "name": "stdout",
     "output_type": "stream",
     "text": [
      "[[ 40   0   0   0   0   3]\n",
      " [  0   0   0   0   0   9]\n",
      " [  0   0   0   0   0   6]\n",
      " [  0   0   0   0   0   8]\n",
      " [  1   0   0   0   0  29]\n",
      " [  1   0   0   0   0 132]]\n",
      "              precision    recall  f1-score   support\n",
      "\n",
      "           0       0.95      0.93      0.94        43\n",
      "           1       0.00      0.00      0.00         9\n",
      "           2       0.00      0.00      0.00         6\n",
      "           3       0.00      0.00      0.00         8\n",
      "           4       0.00      0.00      0.00        30\n",
      "           5       0.71      0.99      0.83       133\n",
      "\n",
      "   micro avg       0.75      0.75      0.75       229\n",
      "   macro avg       0.28      0.32      0.29       229\n",
      "weighted avg       0.59      0.75      0.66       229\n",
      "\n"
     ]
    },
    {
     "name": "stderr",
     "output_type": "stream",
     "text": [
      "/Users/pinarkaymaz/anaconda3/lib/python3.7/site-packages/sklearn/metrics/classification.py:1143: UndefinedMetricWarning: Precision and F-score are ill-defined and being set to 0.0 in labels with no predicted samples.\n",
      "  'precision', 'predicted', average, warn_for)\n",
      "/Users/pinarkaymaz/anaconda3/lib/python3.7/site-packages/sklearn/metrics/classification.py:1143: UndefinedMetricWarning: Precision and F-score are ill-defined and being set to 0.0 in labels with no predicted samples.\n",
      "  'precision', 'predicted', average, warn_for)\n",
      "/Users/pinarkaymaz/anaconda3/lib/python3.7/site-packages/sklearn/metrics/classification.py:1143: UndefinedMetricWarning: Precision and F-score are ill-defined and being set to 0.0 in labels with no predicted samples.\n",
      "  'precision', 'predicted', average, warn_for)\n"
     ]
    }
   ],
   "source": [
    "print(confusion_matrix(y_test,y_pred))\n",
    "print(classification_report(y_test, y_pred))"
   ]
  },
  {
   "cell_type": "code",
   "execution_count": 35,
   "metadata": {},
   "outputs": [
    {
     "name": "stdout",
     "output_type": "stream",
     "text": [
      "Loss:  0.8621022791938615\n",
      "Accuracy:  0.7510917030567685\n"
     ]
    }
   ],
   "source": [
    "probs = logm.predict_proba(X_test)\n",
    "print(\"Loss: \",log_loss(y_test, probs))\n",
    "print(\"Accuracy: \",accuracy_score(y_test, y_pred))"
   ]
  },
  {
   "cell_type": "code",
   "execution_count": 36,
   "metadata": {},
   "outputs": [
    {
     "data": {
      "text/plain": [
       "Text(0, 0.5, 'Predicted Ratings')"
      ]
     },
     "execution_count": 36,
     "metadata": {},
     "output_type": "execute_result"
    },
    {
     "data": {
      "image/png": "[encoded data removed]",
      "text/plain": [
       "<Figure size 360x360 with 1 Axes>"
      ]
     },
     "metadata": {},
     "output_type": "display_data"
    }
   ],
   "source": [
    "sns.set(font_scale = 1.3)\n",
    "sns.set_style(\"whitegrid\")\n",
    "plt.figure(figsize=(5,5))\n",
    "\n",
    "logreg = sns.scatterplot(y_test, y_pred, palette='viridis')\n",
    "plt.xlabel(\"Actual Ratings\")\n",
    "plt.ylabel(\"Predicted Ratings\")\n",
    "\n",
    "\n",
    "#logreg_fig = logreg.get_figure()\n",
    "#logreg_fig.savefig(\"../documentation/images/logreg.eps\", format='eps', bbox_inches='tight')"
   ]
  },
  {
   "cell_type": "markdown",
   "metadata": {},
   "source": [
    "### Save Model"
   ]
  },
  {
   "cell_type": "code",
   "execution_count": 19,
   "metadata": {},
   "outputs": [],
   "source": [
    "filename = 'best_logreg.sav'"
   ]
  },
  {
   "cell_type": "code",
   "execution_count": 16,
   "metadata": {},
   "outputs": [],
   "source": [
    "best_classifier= logm\n",
    "pickle.dump(best_classifier, open(filename, 'wb'))"
   ]
  },
  {
   "cell_type": "markdown",
   "metadata": {},
   "source": [
    "### Restore Model"
   ]
  },
  {
   "cell_type": "code",
   "execution_count": 37,
   "metadata": {},
   "outputs": [
    {
     "name": "stdout",
     "output_type": "stream",
     "text": [
      "Best Loss:  0.837771608017962\n",
      "Best Accuracy:  0.7510917030567685\n"
     ]
    }
   ],
   "source": [
    "loaded_model = pickle.load(open(filename, 'rb'))\n",
    "\n",
    "y_pred_best = loaded_model.predict(X_test)\n",
    "probs_best = loaded_model.predict_proba(X_test)\n",
    "print(\"Best Loss: \",log_loss(y_test, probs_best))\n",
    "print(\"Best Accuracy: \",accuracy_score(y_test, y_pred_best))"
   ]
  },
  {
   "cell_type": "code",
   "execution_count": 114,
   "metadata": {},
   "outputs": [
    {
     "data": {
      "image/png": "[encoded data removed]",
      "text/plain": [
       "<Figure size 360x360 with 1 Axes>"
      ]
     },
     "metadata": {},
     "output_type": "display_data"
    }
   ],
   "source": [
    "sns.set(font_scale = 1.3)\n",
    "sns.set_style(\"whitegrid\")\n",
    "plt.figure(figsize=(5,5))\n",
    "\n",
    "logreg = sns.scatterplot(y_test, y_pred_best, palette='viridis')\n",
    "plt.xlabel(\"Actual Ratings\")\n",
    "plt.ylabel(\"Predicted Ratings\")\n",
    "\n",
    "logreg_fig = logreg.get_figure()\n",
    "#logreg_fig.savefig(\"../documentation/images/logreg.eps\", format='eps', bbox_inches='tight')"
   ]
  },
  {
   "cell_type": "code",
   "execution_count": 118,
   "metadata": {},
   "outputs": [
    {
     "data": {
      "text/plain": [
       "<matplotlib.colorbar.Colorbar at 0x1a306c2278>"
      ]
     },
     "execution_count": 118,
     "metadata": {},
     "output_type": "execute_result"
    },
    {
     "data": {
      "text/plain": [
       "<Figure size 360x360 with 0 Axes>"
      ]
     },
     "metadata": {},
     "output_type": "display_data"
    },
    {
     "data": {
      "image/png": "[encoded data removed]",
      "text/plain": [
       "<Figure size 432x288 with 2 Axes>"
      ]
     },
     "metadata": {},
     "output_type": "display_data"
    }
   ],
   "source": [
    "sns.set(font_scale = 1.2)\n",
    "sns.set_style(\"whitegrid\")\n",
    "plt.figure(figsize=(5,5))\n",
    "\n",
    "fig, ax = plt.subplots()\n",
    "ax.set_aspect(\"equal\")\n",
    "hist, xbins, ybins, im = ax.hist2d(y_test,y_pred_best, bins=12, cmap=plt.cm.Greys)\n",
    "\n",
    "for i in range(len(ybins)-1):\n",
    "    for j in range(len(xbins)-1):\n",
    "        ax.text(xbins[j]+0.2,ybins[i]+0.12, int(hist.T[i,j]), \n",
    "                color=\"w\", ha=\"center\", va=\"center\", fontweight=\"bold\", fontsize=10)\n",
    "plt.xlabel(\"Actual Ratings with Density\")\n",
    "plt.xticks([0,1,2,3,4,5,6])\n",
    "plt.ylim(0,5.2)\n",
    "plt.xlim(0,5.2)\n",
    "plt.ylabel(\"Predicted Ratings with Density\")\n",
    "plt.colorbar(im, ax=ax)\n",
    "\n",
    "#plt.savefig(\"../documentation/images/logreg_colorbar.png\",  bbox_inches='tight')"
   ]
  },
  {
   "cell_type": "code",
   "execution_count": 43,
   "metadata": {},
   "outputs": [
    {
     "data": {
      "text/plain": [
       "5.0    179\n",
       "0.0     46\n",
       "4.0      4\n",
       "dtype: int64"
      ]
     },
     "execution_count": 43,
     "metadata": {},
     "output_type": "execute_result"
    }
   ],
   "source": [
    "pd.Series(y_pred_best).value_counts()"
   ]
  }
 ],
 "metadata": {
  "kernelspec": {
   "display_name": "Python 3",
   "language": "python",
   "name": "python3"
  },
  "language_info": {
   "codemirror_mode": {
    "name": "ipython",
    "version": 3
   },
   "file_extension": ".py",
   "mimetype": "text/x-python",
   "name": "python",
   "nbconvert_exporter": "python",
   "pygments_lexer": "ipython3",
   "version": "3.7.1"
  }
 },
 "nbformat": 4,
 "nbformat_minor": 2
}

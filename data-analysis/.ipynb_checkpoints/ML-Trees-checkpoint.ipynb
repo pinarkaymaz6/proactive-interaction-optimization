{
 "cells": [
  {
   "cell_type": "code",
   "execution_count": 1,
   "metadata": {},
   "outputs": [],
   "source": [
    "import pandas as pd\n",
    "import seaborn as sns\n",
    "import matplotlib.pyplot as plt\n",
    "import numpy as np\n",
    "import pickle\n",
    "\n",
    "%matplotlib inline"
   ]
  },
  {
   "cell_type": "code",
   "execution_count": 2,
   "metadata": {},
   "outputs": [],
   "source": [
    "from sklearn.model_selection import train_test_split\n",
    "from sklearn.tree import DecisionTreeClassifier\n",
    "from sklearn.ensemble import RandomForestClassifier\n",
    "from sklearn.metrics import classification_report,confusion_matrix,r2_score, accuracy_score, mean_absolute_error,log_loss\n",
    "\n",
    "from sklearn.preprocessing import StandardScaler\n",
    "\n",
    "from sklearn.ensemble import RandomForestRegressor"
   ]
  },
  {
   "cell_type": "markdown",
   "metadata": {},
   "source": [
    "## Classification"
   ]
  },
  {
   "cell_type": "code",
   "execution_count": 53,
   "metadata": {},
   "outputs": [
    {
     "data": {
      "text/html": [
       "<div>\n",
       "<style scoped>\n",
       "    .dataframe tbody tr th:only-of-type {\n",
       "        vertical-align: middle;\n",
       "    }\n",
       "\n",
       "    .dataframe tbody tr th {\n",
       "        vertical-align: top;\n",
       "    }\n",
       "\n",
       "    .dataframe thead th {\n",
       "        text-align: right;\n",
       "    }\n",
       "</style>\n",
       "<table border=\"1\" class=\"dataframe\">\n",
       "  <thead>\n",
       "    <tr style=\"text-align: right;\">\n",
       "      <th></th>\n",
       "      <th>RR</th>\n",
       "      <th>RD</th>\n",
       "      <th>rating</th>\n",
       "      <th>duration</th>\n",
       "      <th>initiatedByUser</th>\n",
       "      <th>length</th>\n",
       "      <th>turnsByUser</th>\n",
       "      <th>numWords</th>\n",
       "      <th>usergroup_default</th>\n",
       "    </tr>\n",
       "  </thead>\n",
       "  <tbody>\n",
       "    <tr>\n",
       "      <th>0</th>\n",
       "      <td>1.0</td>\n",
       "      <td>9.50</td>\n",
       "      <td>4</td>\n",
       "      <td>23</td>\n",
       "      <td>True</td>\n",
       "      <td>8</td>\n",
       "      <td>3</td>\n",
       "      <td>0.0</td>\n",
       "      <td>1</td>\n",
       "    </tr>\n",
       "    <tr>\n",
       "      <th>1</th>\n",
       "      <td>1.0</td>\n",
       "      <td>11.00</td>\n",
       "      <td>5</td>\n",
       "      <td>77</td>\n",
       "      <td>True</td>\n",
       "      <td>8</td>\n",
       "      <td>3</td>\n",
       "      <td>2.0</td>\n",
       "      <td>1</td>\n",
       "    </tr>\n",
       "    <tr>\n",
       "      <th>2</th>\n",
       "      <td>1.0</td>\n",
       "      <td>19.67</td>\n",
       "      <td>4</td>\n",
       "      <td>66</td>\n",
       "      <td>False</td>\n",
       "      <td>11</td>\n",
       "      <td>4</td>\n",
       "      <td>0.0</td>\n",
       "      <td>1</td>\n",
       "    </tr>\n",
       "    <tr>\n",
       "      <th>3</th>\n",
       "      <td>1.0</td>\n",
       "      <td>164.00</td>\n",
       "      <td>5</td>\n",
       "      <td>844</td>\n",
       "      <td>True</td>\n",
       "      <td>9</td>\n",
       "      <td>4</td>\n",
       "      <td>4.0</td>\n",
       "      <td>1</td>\n",
       "    </tr>\n",
       "    <tr>\n",
       "      <th>4</th>\n",
       "      <td>1.0</td>\n",
       "      <td>152.67</td>\n",
       "      <td>4</td>\n",
       "      <td>490</td>\n",
       "      <td>True</td>\n",
       "      <td>11</td>\n",
       "      <td>5</td>\n",
       "      <td>4.0</td>\n",
       "      <td>1</td>\n",
       "    </tr>\n",
       "  </tbody>\n",
       "</table>\n",
       "</div>"
      ],
      "text/plain": [
       "    RR      RD  rating  duration  initiatedByUser  length  turnsByUser  \\\n",
       "0  1.0    9.50       4        23             True       8            3   \n",
       "1  1.0   11.00       5        77             True       8            3   \n",
       "2  1.0   19.67       4        66            False      11            4   \n",
       "3  1.0  164.00       5       844             True       9            4   \n",
       "4  1.0  152.67       4       490             True      11            5   \n",
       "\n",
       "   numWords  usergroup_default  \n",
       "0       0.0                  1  \n",
       "1       2.0                  1  \n",
       "2       0.0                  1  \n",
       "3       4.0                  1  \n",
       "4       4.0                  1  "
      ]
     },
     "execution_count": 53,
     "metadata": {},
     "output_type": "execute_result"
    }
   ],
   "source": [
    "df=pd.read_csv('metrics_compact.csv')\n",
    "df.fillna(value = 0, inplace=True)\n",
    "#df['rating'].fillna(df['rating'].mean(), inplace=True)\n",
    "final = pd.get_dummies(df, columns=['usergroup'],drop_first=True)\n",
    "final['rating'] = final['rating'].astype('int32')\n",
    "final.drop(['chat_id','conv_id'], axis=1, inplace=True)\n",
    "final.head()"
   ]
  },
  {
   "cell_type": "code",
   "execution_count": 54,
   "metadata": {},
   "outputs": [],
   "source": [
    "X = final.drop('rating',axis=1)\n",
    "y = final['rating']\n",
    "X_train, X_test, y_train, y_test = train_test_split(X, y, test_size=0.30, random_state=101)"
   ]
  },
  {
   "cell_type": "code",
   "execution_count": 55,
   "metadata": {},
   "outputs": [
    {
     "name": "stderr",
     "output_type": "stream",
     "text": [
      "/Users/pinarkaymaz/anaconda3/lib/python3.7/site-packages/sklearn/preprocessing/data.py:625: DataConversionWarning: Data with input dtype bool, uint8, int64, float64 were all converted to float64 by StandardScaler.\n",
      "  return self.partial_fit(X, y)\n",
      "/Users/pinarkaymaz/anaconda3/lib/python3.7/site-packages/sklearn/base.py:462: DataConversionWarning: Data with input dtype bool, uint8, int64, float64 were all converted to float64 by StandardScaler.\n",
      "  return self.fit(X, **fit_params).transform(X)\n",
      "/Users/pinarkaymaz/anaconda3/lib/python3.7/site-packages/ipykernel_launcher.py:3: DataConversionWarning: Data with input dtype bool, uint8, int64, float64 were all converted to float64 by StandardScaler.\n",
      "  This is separate from the ipykernel package so we can avoid doing imports until\n"
     ]
    }
   ],
   "source": [
    "sc = StandardScaler()\n",
    "X_train = sc.fit_transform(X_train)\n",
    "X_test = sc.transform(X_test)\n",
    "\n",
    "dtree = DecisionTreeClassifier()\n",
    "dtree.fit(X_train,y_train)\n",
    "predictions = dtree.predict(X_test)"
   ]
  },
  {
   "cell_type": "code",
   "execution_count": 56,
   "metadata": {},
   "outputs": [
    {
     "name": "stdout",
     "output_type": "stream",
     "text": [
      "Loss:  14.328313351600505\n",
      "Accuracy:  0.5851528384279476\n",
      "              precision    recall  f1-score   support\n",
      "\n",
      "           0       0.89      0.95      0.92        44\n",
      "           1       0.00      0.00      0.00         3\n",
      "           2       0.09      0.11      0.10         9\n",
      "           3       0.14      0.17      0.15        12\n",
      "           4       0.26      0.26      0.26        38\n",
      "           5       0.69      0.64      0.67       123\n",
      "\n",
      "   micro avg       0.59      0.59      0.59       229\n",
      "   macro avg       0.35      0.36      0.35       229\n",
      "weighted avg       0.60      0.59      0.59       229\n",
      "\n",
      "[[42  0  0  0  2  0]\n",
      " [ 0  0  0  0  0  3]\n",
      " [ 0  0  1  1  2  5]\n",
      " [ 0  0  2  2  2  6]\n",
      " [ 1  2  3  1 10 21]\n",
      " [ 4  3  5 10 22 79]]\n"
     ]
    }
   ],
   "source": [
    "probs = dtree.predict_proba(X_test)\n",
    "print(\"Loss: \",log_loss(y_test, probs))\n",
    "print(\"Accuracy: \",accuracy_score(y_test, predictions))\n",
    "\n",
    "print(classification_report(y_test,predictions))\n",
    "print(confusion_matrix(y_test,predictions))"
   ]
  },
  {
   "cell_type": "code",
   "execution_count": 57,
   "metadata": {},
   "outputs": [],
   "source": [
    "rfc = RandomForestClassifier(n_estimators=2000)\n",
    "rfc.fit(X_train,y_train)\n",
    "predictions = rfc.predict(X_test)"
   ]
  },
  {
   "cell_type": "code",
   "execution_count": 58,
   "metadata": {
    "scrolled": true
   },
   "outputs": [
    {
     "name": "stdout",
     "output_type": "stream",
     "text": [
      "Loss:  1.207156802623858\n",
      "Accuracy:  0.6593886462882096\n"
     ]
    }
   ],
   "source": [
    "probs = rfc.predict_proba(X_test)\n",
    "print(\"Loss: \",log_loss(y_test, probs))\n",
    "print(\"Accuracy: \",accuracy_score(y_test, predictions))"
   ]
  },
  {
   "cell_type": "code",
   "execution_count": 50,
   "metadata": {},
   "outputs": [
    {
     "name": "stdout",
     "output_type": "stream",
     "text": [
      "---- REPORT ---- \n",
      "               precision    recall  f1-score   support\n",
      "\n",
      "           0       0.90      0.98      0.93        44\n",
      "           1       0.00      0.00      0.00         9\n",
      "           2       0.25      0.25      0.25         4\n",
      "           3       0.11      0.11      0.11         9\n",
      "           4       0.42      0.22      0.29        46\n",
      "           5       0.70      0.84      0.76       117\n",
      "\n",
      "   micro avg       0.67      0.67      0.67       229\n",
      "   macro avg       0.40      0.40      0.39       229\n",
      "weighted avg       0.62      0.67      0.64       229\n",
      "\n",
      "---- CONFUSION ---- \n",
      " [[43  0  0  0  0  1]\n",
      " [ 0  0  0  1  2  6]\n",
      " [ 0  0  1  0  1  2]\n",
      " [ 0  1  0  1  1  6]\n",
      " [ 2  2  2  3 10 27]\n",
      " [ 3  1  1  4 10 98]]\n"
     ]
    }
   ],
   "source": [
    "print(\"---- REPORT ---- \\n\",classification_report(y_test,predictions))\n",
    "print(\"---- CONFUSION ---- \\n\",confusion_matrix(y_test,predictions))"
   ]
  },
  {
   "cell_type": "code",
   "execution_count": 106,
   "metadata": {},
   "outputs": [
    {
     "data": {
      "image/png": "[encoded data removed]",
      "text/plain": [
       "<Figure size 360x360 with 1 Axes>"
      ]
     },
     "metadata": {},
     "output_type": "display_data"
    }
   ],
   "source": [
    "sns.set(font_scale = 1.3)\n",
    "sns.set_style(\"whitegrid\")\n",
    "plt.figure(figsize=(5,5))\n",
    "\n",
    "rfc = sns.scatterplot(y_test, predictions, palette='viridis')\n",
    "plt.xlabel(\"Actual Ratings\")\n",
    "plt.ylabel(\"Predicted Ratings\")\n",
    "\n",
    "\n",
    "#rfc_fig = rfc.get_figure()\n",
    "#rfc_fig.savefig(\"../documentation/images/rfc.eps\", format='eps', bbox_inches='tight')\n"
   ]
  },
  {
   "cell_type": "markdown",
   "metadata": {},
   "source": [
    "### Save Model"
   ]
  },
  {
   "cell_type": "code",
   "execution_count": 51,
   "metadata": {},
   "outputs": [],
   "source": [
    "filename = 'best_rfc.sav'"
   ]
  },
  {
   "cell_type": "code",
   "execution_count": 118,
   "metadata": {},
   "outputs": [],
   "source": [
    "best_classifier= rfc\n",
    "\n",
    "\n",
    "pickle.dump(best_classifier, open(filename, 'wb'))\n"
   ]
  },
  {
   "cell_type": "markdown",
   "metadata": {},
   "source": [
    "### Restore Model"
   ]
  },
  {
   "cell_type": "code",
   "execution_count": 52,
   "metadata": {},
   "outputs": [
    {
     "name": "stdout",
     "output_type": "stream",
     "text": [
      "Best Loss:  1.3450020100447821\n",
      "Best Accuracy:  0.62882096069869\n"
     ]
    }
   ],
   "source": [
    "loaded_model = pickle.load(open(filename, 'rb'))\n",
    "\n",
    "y_pred_best = loaded_model.predict(X_test)\n",
    "probs_best = loaded_model.predict_proba(X_test)\n",
    "print(\"Best Loss: \",log_loss(y_test, probs_best))\n",
    "print(\"Best Accuracy: \",accuracy_score(y_test, y_pred_best))"
   ]
  },
  {
   "cell_type": "markdown",
   "metadata": {},
   "source": [
    "## Regression"
   ]
  },
  {
   "cell_type": "code",
   "execution_count": 6,
   "metadata": {},
   "outputs": [],
   "source": []
  },
  {
   "cell_type": "code",
   "execution_count": 44,
   "metadata": {},
   "outputs": [],
   "source": [
    "df_reg=pd.read_csv('metrics_compact.csv')\n",
    "df_reg.fillna(value = 0, inplace=True)\n",
    "#df_reg['rating'].fillna(df_reg['rating'].mean(), inplace=True)\n",
    "final_reg = pd.get_dummies(df_reg, columns=['usergroup'],drop_first=True)\n",
    "final_reg.drop(['chat_id','conv_id'], axis=1, inplace=True)\n",
    "\n",
    "X_reg = final_reg.drop('rating',axis=1)\n",
    "y_reg = final_reg['rating']\n",
    "#StandardScaler().fit_transform(X_reg)\n",
    "X_train_reg, X_test_reg, y_train_reg, y_test_reg = train_test_split(X_reg, \n",
    "                                                                    y_reg, test_size=0.3, random_state=150, \n",
    "                                                                    shuffle=False)"
   ]
  },
  {
   "cell_type": "code",
   "execution_count": 45,
   "metadata": {},
   "outputs": [
    {
     "name": "stderr",
     "output_type": "stream",
     "text": [
      "/Users/pinarkaymaz/anaconda3/lib/python3.7/site-packages/sklearn/preprocessing/data.py:625: DataConversionWarning: Data with input dtype bool, uint8, int64, float64 were all converted to float64 by StandardScaler.\n",
      "  return self.partial_fit(X, y)\n",
      "/Users/pinarkaymaz/anaconda3/lib/python3.7/site-packages/sklearn/base.py:462: DataConversionWarning: Data with input dtype bool, uint8, int64, float64 were all converted to float64 by StandardScaler.\n",
      "  return self.fit(X, **fit_params).transform(X)\n",
      "/Users/pinarkaymaz/anaconda3/lib/python3.7/site-packages/ipykernel_launcher.py:3: DataConversionWarning: Data with input dtype bool, uint8, int64, float64 were all converted to float64 by StandardScaler.\n",
      "  This is separate from the ipykernel package so we can avoid doing imports until\n"
     ]
    }
   ],
   "source": [
    "sc = StandardScaler()\n",
    "X_train_reg = sc.fit_transform(X_train_reg)\n",
    "X_test_reg = sc.transform(X_test_reg)\n",
    "\n",
    "\n",
    "regressor = RandomForestRegressor(n_estimators=2000)\n",
    "regressor.fit(X_train_reg, y_train_reg)\n",
    "y_pred_reg = regressor.predict(X_test_reg)"
   ]
  },
  {
   "cell_type": "code",
   "execution_count": 46,
   "metadata": {},
   "outputs": [
    {
     "name": "stdout",
     "output_type": "stream",
     "text": [
      "RMSE:  0.889368305334045\n",
      "R2:  0.6635419044367956\n"
     ]
    }
   ],
   "source": [
    "print(\"RMSE: \",np.sqrt(mean_absolute_error(y_test_reg, y_pred_reg)))\n",
    "print(\"R2: \",r2_score(y_test_reg, y_pred_reg, multioutput='variance_weighted'))"
   ]
  },
  {
   "cell_type": "code",
   "execution_count": null,
   "metadata": {},
   "outputs": [],
   "source": []
  },
  {
   "cell_type": "markdown",
   "metadata": {},
   "source": [
    "### Save Model"
   ]
  },
  {
   "cell_type": "code",
   "execution_count": 6,
   "metadata": {},
   "outputs": [],
   "source": [
    "filename = 'best_rfr.sav'"
   ]
  },
  {
   "cell_type": "code",
   "execution_count": 125,
   "metadata": {},
   "outputs": [],
   "source": [
    "best_regressor= regressor\n",
    "\n",
    "\n",
    "pickle.dump(best_regressor, open(filename, 'wb'))"
   ]
  },
  {
   "cell_type": "markdown",
   "metadata": {},
   "source": [
    "### Restore Model"
   ]
  },
  {
   "cell_type": "code",
   "execution_count": 47,
   "metadata": {},
   "outputs": [
    {
     "name": "stdout",
     "output_type": "stream",
     "text": [
      "Best RMSE:  0.759179630779431\n",
      "Best R2:  0.8046991519491947\n"
     ]
    }
   ],
   "source": [
    "loaded_model = pickle.load(open(filename, 'rb'))\n",
    "\n",
    "y_pred_best = loaded_model.predict(X_test_reg)\n",
    "\n",
    "print(\"Best RMSE: \",np.sqrt(mean_absolute_error(y_test_reg, y_pred_best)))\n",
    "print(\"Best R2: \",r2_score(y_test_reg, y_pred_best, multioutput='variance_weighted'))"
   ]
  },
  {
   "cell_type": "code",
   "execution_count": 43,
   "metadata": {},
   "outputs": [
    {
     "data": {
      "image/png": "[encoded data removed]",
      "text/plain": [
       "<Figure size 360x360 with 1 Axes>"
      ]
     },
     "metadata": {},
     "output_type": "display_data"
    }
   ],
   "source": [
    "sns.set(font_scale = 1.3)\n",
    "sns.set_style(\"whitegrid\")\n",
    "plt.figure(figsize=(5,5))\n",
    "\n",
    "rfr = sns.scatterplot(y_test_reg, y_pred_best, palette='viridis')\n",
    "plt.xlabel(\"Actual Ratings\")\n",
    "plt.ylabel(\"Predicted Ratings\")\n",
    "\n",
    "\n",
    "rfr_fig = rfr.get_figure()\n",
    "#rfr_fig.savefig(\"../documentation/images/rfr.eps\", format='eps', bbox_inches='tight')\n",
    "\n"
   ]
  },
  {
   "cell_type": "code",
   "execution_count": null,
   "metadata": {},
   "outputs": [],
   "source": []
  }
 ],
 "metadata": {
  "kernelspec": {
   "display_name": "Python 3",
   "language": "python",
   "name": "python3"
  },
  "language_info": {
   "codemirror_mode": {
    "name": "ipython",
    "version": 3
   },
   "file_extension": ".py",
   "mimetype": "text/x-python",
   "name": "python",
   "nbconvert_exporter": "python",
   "pygments_lexer": "ipython3",
   "version": "3.7.1"
  }
 },
 "nbformat": 4,
 "nbformat_minor": 2
}
